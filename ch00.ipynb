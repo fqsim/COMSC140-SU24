{
  "cells": [
    {
      "cell_type": "markdown",
      "metadata": {
        "id": "gmPRMrEC4IpH"
      },
      "source": [
        "# <p style=\"font-family: Arial; font-size:1.4em;color:gold;\"> Jupyter Notebook </p>\n",
        "<img src=\"https://miro.medium.com/v2/resize:fit:1400/1*RzxZF0mmXAsMLrIzAWYDSg.png\" alt=\"Drawing\" style=\"width: 400px;\"/>"
      ]
    },
    {
      "cell_type": "markdown",
      "metadata": {
        "id": "QWSB1ENW4IpI"
      },
      "source": [
        "# Task 1. Complete the following code and run it.\n"
      ]
    },
    {
      "cell_type": "markdown",
      "metadata": {
        "id": "3g8reYzb4IpI"
      },
      "source": [
        "### Please run the below code by clicking the small \"play\" button on the left of the cell"
      ]
    },
    {
      "cell_type": "code",
      "execution_count": 1,
      "metadata": {
        "id": "qB6Rqv2G4IpI",
        "outputId": "ea46cf17-918f-4539-81af-6b5b4503c04b",
        "colab": {
          "base_uri": "https://localhost:8080/"
        }
      },
      "outputs": [
        {
          "output_type": "stream",
          "name": "stdout",
          "text": [
            "Hello Wolrd\n"
          ]
        }
      ],
      "source": [
        "print ('Hello Wolrd')"
      ]
    },
    {
      "cell_type": "markdown",
      "metadata": {
        "id": "A5uJTB0p4IpI"
      },
      "source": [
        "### SAVE this file(ctrl-s) At this moment"
      ]
    },
    {
      "cell_type": "markdown",
      "metadata": {
        "id": "Iet4-icm4IpI"
      },
      "source": [
        "# Task 2. Complete the following instructions"
      ]
    },
    {
      "cell_type": "markdown",
      "metadata": {
        "id": "V60EZfvv4IpJ"
      },
      "source": [
        "### Press \"ESC\"\n",
        "### Create a \"Code Cell\" by typing \"b\"\n",
        "### Make the same code to print \"Hello World\"\n",
        "### Run it\n",
        "### Try to move the cell by \"alt - up / down\" in VS Code or \"Ctrl-M J/K\" in Google Colab"
      ]
    },
    {
      "cell_type": "markdown",
      "metadata": {
        "id": "VCtlu4Ak4IpJ"
      },
      "source": [
        "### SAVE this file(ctrl-s) At this moment"
      ]
    },
    {
      "cell_type": "markdown",
      "metadata": {
        "id": "Ebk5r5qZ4IpJ"
      },
      "source": [
        "\n",
        "# Task 3\n",
        "### Create a \"Markdown Cell\"\n",
        "### Add a image in your \"Markdown Cell\" (Refer to the 1st Cell in this notebook file)"
      ]
    },
    {
      "cell_type": "markdown",
      "metadata": {
        "id": "VqN22nzJ4IpJ"
      },
      "source": [
        "### SAVE this file(ctrl-s) At this moment"
      ]
    },
    {
      "cell_type": "markdown",
      "metadata": {
        "id": "vOMEgpIK4IpJ"
      },
      "source": [
        "### Make sure that you should have \"SAVE\" this file at least 3 times.\n",
        "### \"SAVE(ctrl-s)\" will make a snapshot in the Revision History"
      ]
    }
  ],
  "metadata": {
    "kernelspec": {
      "display_name": "base",
      "language": "python",
      "name": "python3"
    },
    "language_info": {
      "codemirror_mode": {
        "name": "ipython",
        "version": 3
      },
      "file_extension": ".py",
      "mimetype": "text/x-python",
      "name": "python",
      "nbconvert_exporter": "python",
      "pygments_lexer": "ipython3",
      "version": "3.9.17"
    },
    "colab": {
      "provenance": []
    }
  },
  "nbformat": 4,
  "nbformat_minor": 0
}